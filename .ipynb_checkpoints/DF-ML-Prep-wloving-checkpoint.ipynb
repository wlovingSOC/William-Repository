{
 "cells": [
  {
   "cell_type": "code",
   "execution_count": 2,
   "metadata": {},
   "outputs": [],
   "source": [
    "import pandas as pd\n",
    "import numpy as np\n",
    "\n",
    "#read in data\n",
    "\n",
    "df1 = pd.read_parquet('s3://so-db-compactions/interprose/account/20220608/20220608_070509_account.parquet', engine = 'pyarrow')\n",
    "df2 = pd.read_parquet('s3://so-db-compactions/interprose/credit_vision/20220608/20220608_070509_credit_vision.parquet', engine = 'pyarrow')\n",
    "df3 = pd.read_parquet('s3://so-db-compactions/interprose/payments/20220608/20220608_070423_payments.parquet', engine = 'pyarrow')\n",
    "df4 = pd.read_parquet('s3://so-db-compactions/interprose/additional_original_account_information/20220608/20220608_070509_additional_original_account_information.parquet', engine = 'pyarrow')\n",
    "\n",
    "#show all columns when using head() or tail()\n",
    "pd.set_option('display.max_columns', None)\n",
    "\n",
    "\n"
   ]
  },
  {
   "cell_type": "code",
   "execution_count": 3,
   "metadata": {},
   "outputs": [],
   "source": [
    "df3 = df3[df3['customer_client_code'].str.contains(\"GEN\")] #reduce to just genesis accounts\n",
    "\n",
    "df3.reset_index(inplace = True)"
   ]
  },
  {
   "cell_type": "code",
   "execution_count": 4,
   "metadata": {},
   "outputs": [],
   "source": [
    "df1 = df1[df1['customer_client_code'].str.contains(\"GEN\")] #reduce to just genesis accounts\n",
    "\n",
    "df1.reset_index(inplace = True)"
   ]
  },
  {
   "cell_type": "code",
   "execution_count": 5,
   "metadata": {},
   "outputs": [],
   "source": [
    "df_pay = df3.groupby('debt_id')['amount'].sum() #group by debt id while summing the amount columns"
   ]
  },
  {
   "cell_type": "code",
   "execution_count": 6,
   "metadata": {},
   "outputs": [],
   "source": [
    "df_pay = df_pay.reset_index() # reset the index to restore the type as dataframe"
   ]
  },
  {
   "cell_type": "code",
   "execution_count": 7,
   "metadata": {},
   "outputs": [],
   "source": [
    "df_merge1 = pd.merge(df_pay, df1, how='outer', on='debt_id') #merge the payment and account dataframes on debt_id,\n",
    "#saving the accounts that have no payments, used outer so no data is lost here\n",
    "\n",
    "df_merge2 = pd.merge(df_merge1, df4, how = 'left', on = 'debt_id')"
   ]
  },
  {
   "cell_type": "code",
   "execution_count": 8,
   "metadata": {},
   "outputs": [],
   "source": [
    "#merge left, essentially get the cv info for each account, merged left so we don't have unused cv info accounts. \n",
    "df_fin = pd.merge(df_merge2, df2, how = 'left', on = 'debt_id') "
   ]
  },
  {
   "cell_type": "code",
   "execution_count": 9,
   "metadata": {},
   "outputs": [],
   "source": [
    "pd.set_option('display.max_columns', 15) # show only 15 columns "
   ]
  },
  {
   "cell_type": "code",
   "execution_count": 10,
   "metadata": {},
   "outputs": [],
   "source": [
    "df_fin = df_fin.replace(np.nan, 0.0) # replace nan with 0.0"
   ]
  },
  {
   "cell_type": "code",
   "execution_count": 11,
   "metadata": {},
   "outputs": [],
   "source": [
    "df_fin['original_balance'] = df_fin['current_balance'] + df_fin['amount'] # calculate original balance, add as column"
   ]
  },
  {
   "cell_type": "code",
   "execution_count": 12,
   "metadata": {},
   "outputs": [],
   "source": [
    "df_fin['today'] = pd.to_datetime(\"today\").date() #add the number of days since last charge off\n",
    "\n",
    "df_fin['num_days_since_charge_off'] = (df_fin['today'] - df_fin['client_delinquency_date'])"
   ]
  },
  {
   "cell_type": "code",
   "execution_count": 13,
   "metadata": {},
   "outputs": [],
   "source": [
    "df_fin['original_balance_readable'] = df_fin['original_balance']/100 #converted into $ amount, no longer in cents"
   ]
  },
  {
   "cell_type": "code",
   "execution_count": 14,
   "metadata": {},
   "outputs": [],
   "source": [
    "df_fin['percent_paid'] = df_fin['amount']/df_fin['original_balance'] # percent of the original balance paid, added as column"
   ]
  },
  {
   "cell_type": "code",
   "execution_count": 15,
   "metadata": {},
   "outputs": [],
   "source": [
    "df_fin.dropna(inplace = True) # dropped rows with nan values\n",
    "df_fin = df_fin.reset_index()"
   ]
  },
  {
   "cell_type": "code",
   "execution_count": 16,
   "metadata": {},
   "outputs": [],
   "source": [
    "df_fin['num_days_since_charge_off'] = df_fin['num_days_since_charge_off'].dt.days.astype('int16') #converted datetime object to int"
   ]
  },
  {
   "cell_type": "code",
   "execution_count": 17,
   "metadata": {},
   "outputs": [],
   "source": [
    "df_fin[['agg102', 'agg104', 'agg107','agg401', 'agg801','agg803', 'agg806']] = df_fin[['agg102', 'agg104', 'agg107', \n",
    "                   'agg401', 'agg801',\n",
    "                   'agg803', 'agg806']].astype('int16') #converted to int for ML purposes"
   ]
  },
  {
   "cell_type": "code",
   "execution_count": 18,
   "metadata": {},
   "outputs": [],
   "source": [
    "#print(list(df_fin.columns))"
   ]
  },
  {
   "cell_type": "code",
   "execution_count": 19,
   "metadata": {},
   "outputs": [],
   "source": [
    "#beginning XGBoost and ML Stuff Here\n",
    "\n",
    "#preparing data here\n",
    "import pandas as pd\n",
    "from sklearn.model_selection import train_test_split\n",
    "from xgboost import XGBRegressor\n",
    "\n",
    "cols_to_use = ['num_days_since_charge_off', 'right_party_contacts', \n",
    "               'interest_serialized_balance', 'principal_balance', 'principal_owing', \n",
    "               'agg102', 'agg104', 'agg107', 'agg401', 'agg801', 'agg803', 'agg806', 'principal_received', 'orginal_interest_rate']\n",
    "\n",
    "X = df_fin[cols_to_use] #for now these features are chosen rather randomly, just starting to experiment with cv agg columns\n",
    "\n",
    "y = df_fin.amount # predicting on aggregated amount (total paid), so if a new portfolio is tested its predicting how much the accounts are expected to pay\n",
    "\n",
    "X_train, X_valid, y_train, y_valid = train_test_split(X, y)\n"
   ]
  },
  {
   "cell_type": "code",
   "execution_count": 20,
   "metadata": {},
   "outputs": [
    {
     "data": {
      "text/plain": [
       "XGBRegressor(base_score=0.5, booster='gbtree', colsample_bylevel=1,\n",
       "             colsample_bynode=1, colsample_bytree=1, enable_categorical=False,\n",
       "             gamma=0, gpu_id=-1, importance_type=None,\n",
       "             interaction_constraints='', learning_rate=0.02, max_delta_step=0,\n",
       "             max_depth=6, min_child_weight=1, missing=nan,\n",
       "             monotone_constraints='()', n_estimators=1000, n_jobs=4,\n",
       "             num_parallel_tree=1, predictor='auto', random_state=0, reg_alpha=0,\n",
       "             reg_lambda=1, scale_pos_weight=1, subsample=1, tree_method='exact',\n",
       "             validate_parameters=1, verbosity=1)"
      ]
     },
     "execution_count": 20,
     "metadata": {},
     "output_type": "execute_result"
    }
   ],
   "source": [
    "SO_model = XGBRegressor(n_estimators = 1000, learning_rate = 0.02, random_state = 0, verbosity = 1)\n",
    "\n",
    "SO_model.fit(X_train, y_train)"
   ]
  },
  {
   "cell_type": "code",
   "execution_count": 21,
   "metadata": {},
   "outputs": [
    {
     "name": "stdout",
     "output_type": "stream",
     "text": [
      "MAE:604.1329108214317\n"
     ]
    }
   ],
   "source": [
    "from sklearn.metrics import mean_absolute_error\n",
    "\n",
    "predictions = SO_model.predict(X_valid)\n",
    "print(\"MAE:\" + str(mean_absolute_error(predictions,y_valid)))"
   ]
  },
  {
   "cell_type": "code",
   "execution_count": 22,
   "metadata": {},
   "outputs": [
    {
     "name": "stdout",
     "output_type": "stream",
     "text": [
      "0.9093700775232376\n"
     ]
    }
   ],
   "source": [
    "score = SO_model.score(X_train, y_train)  \n",
    "print(score)"
   ]
  },
  {
   "cell_type": "code",
   "execution_count": null,
   "metadata": {},
   "outputs": [],
   "source": [
    "# I calculated a lot of kind of unusable features, predicting amount using original balance doesn't really work \n",
    "# because original balance is calculated using amount, so some of the features are contaminated. "
   ]
  },
  {
   "cell_type": "code",
   "execution_count": 23,
   "metadata": {},
   "outputs": [
    {
     "data": {
      "text/plain": [
       "GENMAR2022     76365\n",
       "GENMAY2022     72115\n",
       "GENAPR2022     69790\n",
       "GEN2MAR2022    65767\n",
       "GENDEC2021     57258\n",
       "GENJAN2022     41646\n",
       "GENSEP2021     24255\n",
       "GENAUG2021     23522\n",
       "GENOCT2021     19675\n",
       "GENNOV2021     11554\n",
       "GENJUL2021     10074\n",
       "GENJUN2021      8174\n",
       "Name: customer_client_code, dtype: int64"
      ]
     },
     "execution_count": 23,
     "metadata": {},
     "output_type": "execute_result"
    }
   ],
   "source": [
    "df_fin['customer_client_code'].value_counts()"
   ]
  },
  {
   "cell_type": "code",
   "execution_count": 24,
   "metadata": {},
   "outputs": [
    {
     "data": {
      "text/plain": [
       "17126"
      ]
     },
     "execution_count": 24,
     "metadata": {},
     "output_type": "execute_result"
    }
   ],
   "source": [
    "df_fin['amount'].astype(bool).sum()\n"
   ]
  },
  {
   "cell_type": "code",
   "execution_count": 25,
   "metadata": {},
   "outputs": [
    {
     "data": {
      "text/plain": [
       "17126"
      ]
     },
     "execution_count": 25,
     "metadata": {},
     "output_type": "execute_result"
    }
   ],
   "source": [
    "np.count_nonzero(df_fin['amount'])"
   ]
  },
  {
   "cell_type": "code",
   "execution_count": 26,
   "metadata": {},
   "outputs": [
    {
     "data": {
      "text/html": [
       "<div>\n",
       "<style scoped>\n",
       "    .dataframe tbody tr th:only-of-type {\n",
       "        vertical-align: middle;\n",
       "    }\n",
       "\n",
       "    .dataframe tbody tr th {\n",
       "        vertical-align: top;\n",
       "    }\n",
       "\n",
       "    .dataframe thead th {\n",
       "        text-align: right;\n",
       "    }\n",
       "</style>\n",
       "<table border=\"1\" class=\"dataframe\">\n",
       "  <thead>\n",
       "    <tr style=\"text-align: right;\">\n",
       "      <th></th>\n",
       "      <th>level_0</th>\n",
       "      <th>debt_id</th>\n",
       "      <th>amount</th>\n",
       "      <th>index</th>\n",
       "      <th>customer_id</th>\n",
       "      <th>customer_account_number</th>\n",
       "      <th>client_id</th>\n",
       "      <th>...</th>\n",
       "      <th>ps_062</th>\n",
       "      <th>bc_29</th>\n",
       "      <th>original_balance</th>\n",
       "      <th>today</th>\n",
       "      <th>num_days_since_charge_off</th>\n",
       "      <th>original_balance_readable</th>\n",
       "      <th>percent_paid</th>\n",
       "    </tr>\n",
       "  </thead>\n",
       "  <tbody>\n",
       "    <tr>\n",
       "      <th>480190</th>\n",
       "      <td>481385</td>\n",
       "      <td>111905190</td>\n",
       "      <td>0.0</td>\n",
       "      <td>1442184</td>\n",
       "      <td>SPRING</td>\n",
       "      <td>111905190</td>\n",
       "      <td>4282601</td>\n",
       "      <td>...</td>\n",
       "      <td>0.0</td>\n",
       "      <td>0.0</td>\n",
       "      <td>594192.0</td>\n",
       "      <td>2022-06-16</td>\n",
       "      <td>211</td>\n",
       "      <td>5941.92</td>\n",
       "      <td>0.0</td>\n",
       "    </tr>\n",
       "    <tr>\n",
       "      <th>480191</th>\n",
       "      <td>481386</td>\n",
       "      <td>111905191</td>\n",
       "      <td>0.0</td>\n",
       "      <td>1442185</td>\n",
       "      <td>SPRING</td>\n",
       "      <td>111905191</td>\n",
       "      <td>4282601</td>\n",
       "      <td>...</td>\n",
       "      <td>0.0</td>\n",
       "      <td>0.0</td>\n",
       "      <td>391861.0</td>\n",
       "      <td>2022-06-16</td>\n",
       "      <td>204</td>\n",
       "      <td>3918.61</td>\n",
       "      <td>0.0</td>\n",
       "    </tr>\n",
       "    <tr>\n",
       "      <th>480192</th>\n",
       "      <td>481387</td>\n",
       "      <td>111905192</td>\n",
       "      <td>0.0</td>\n",
       "      <td>1442186</td>\n",
       "      <td>SPRING</td>\n",
       "      <td>111905192</td>\n",
       "      <td>4282601</td>\n",
       "      <td>...</td>\n",
       "      <td>0.0</td>\n",
       "      <td>0.0</td>\n",
       "      <td>570925.0</td>\n",
       "      <td>2022-06-16</td>\n",
       "      <td>210</td>\n",
       "      <td>5709.25</td>\n",
       "      <td>0.0</td>\n",
       "    </tr>\n",
       "    <tr>\n",
       "      <th>480193</th>\n",
       "      <td>481388</td>\n",
       "      <td>111905193</td>\n",
       "      <td>0.0</td>\n",
       "      <td>1442187</td>\n",
       "      <td>SPRING</td>\n",
       "      <td>111905193</td>\n",
       "      <td>4282601</td>\n",
       "      <td>...</td>\n",
       "      <td>0.0</td>\n",
       "      <td>0.0</td>\n",
       "      <td>194140.0</td>\n",
       "      <td>2022-06-16</td>\n",
       "      <td>183</td>\n",
       "      <td>1941.40</td>\n",
       "      <td>0.0</td>\n",
       "    </tr>\n",
       "    <tr>\n",
       "      <th>480194</th>\n",
       "      <td>481389</td>\n",
       "      <td>111905194</td>\n",
       "      <td>0.0</td>\n",
       "      <td>1442188</td>\n",
       "      <td>SPRING</td>\n",
       "      <td>111905194</td>\n",
       "      <td>4282601</td>\n",
       "      <td>...</td>\n",
       "      <td>0.0</td>\n",
       "      <td>0.0</td>\n",
       "      <td>218172.0</td>\n",
       "      <td>2022-06-16</td>\n",
       "      <td>207</td>\n",
       "      <td>2181.72</td>\n",
       "      <td>0.0</td>\n",
       "    </tr>\n",
       "  </tbody>\n",
       "</table>\n",
       "<p>5 rows × 701 columns</p>\n",
       "</div>"
      ],
      "text/plain": [
       "        level_0    debt_id  amount    index customer_id  \\\n",
       "480190   481385  111905190     0.0  1442184      SPRING   \n",
       "480191   481386  111905191     0.0  1442185      SPRING   \n",
       "480192   481387  111905192     0.0  1442186      SPRING   \n",
       "480193   481388  111905193     0.0  1442187      SPRING   \n",
       "480194   481389  111905194     0.0  1442188      SPRING   \n",
       "\n",
       "       customer_account_number  client_id  ... ps_062 bc_29  original_balance  \\\n",
       "480190               111905190    4282601  ...    0.0   0.0          594192.0   \n",
       "480191               111905191    4282601  ...    0.0   0.0          391861.0   \n",
       "480192               111905192    4282601  ...    0.0   0.0          570925.0   \n",
       "480193               111905193    4282601  ...    0.0   0.0          194140.0   \n",
       "480194               111905194    4282601  ...    0.0   0.0          218172.0   \n",
       "\n",
       "             today  num_days_since_charge_off  original_balance_readable  \\\n",
       "480190  2022-06-16                        211                    5941.92   \n",
       "480191  2022-06-16                        204                    3918.61   \n",
       "480192  2022-06-16                        210                    5709.25   \n",
       "480193  2022-06-16                        183                    1941.40   \n",
       "480194  2022-06-16                        207                    2181.72   \n",
       "\n",
       "        percent_paid  \n",
       "480190           0.0  \n",
       "480191           0.0  \n",
       "480192           0.0  \n",
       "480193           0.0  \n",
       "480194           0.0  \n",
       "\n",
       "[5 rows x 701 columns]"
      ]
     },
     "execution_count": 26,
     "metadata": {},
     "output_type": "execute_result"
    }
   ],
   "source": [
    "df_fin.tail()"
   ]
  },
  {
   "cell_type": "code",
   "execution_count": 88,
   "metadata": {},
   "outputs": [],
   "source": [
    "filt_may = (df_fin['customer_client_code'] == 'GENMAY2022')"
   ]
  },
  {
   "cell_type": "code",
   "execution_count": 89,
   "metadata": {},
   "outputs": [],
   "source": [
    "filt_mar = (df_fin['customer_client_code'] == 'GENMAR2022')"
   ]
  },
  {
   "cell_type": "code",
   "execution_count": 90,
   "metadata": {},
   "outputs": [
    {
     "data": {
      "text/plain": [
       "13.346127712681135"
      ]
     },
     "execution_count": 90,
     "metadata": {},
     "output_type": "execute_result"
    }
   ],
   "source": [
    "df_fin[filt_may]['amount'].mean() # wildly different implying change"
   ]
  },
  {
   "cell_type": "code",
   "execution_count": 87,
   "metadata": {},
   "outputs": [
    {
     "data": {
      "text/plain": [
       "879.7453807372488"
      ]
     },
     "execution_count": 87,
     "metadata": {},
     "output_type": "execute_result"
    }
   ],
   "source": [
    "df_fin[filt_mar]['amount'].mean() # significantly higher for a single month difference"
   ]
  },
  {
   "cell_type": "code",
   "execution_count": null,
   "metadata": {},
   "outputs": [],
   "source": []
  },
  {
   "cell_type": "code",
   "execution_count": 152,
   "metadata": {},
   "outputs": [],
   "source": [
    "df_test_pay = pd.read_parquet('s3://so-db-compactions/interprose/payments/20220315/20220315_190737_payments.parquet', engine = 'pyarrow')\n",
    "df_test_acct = pd.read_parquet('s3://so-db-compactions/interprose/account/20210315/20210315_000002_account.parquet', engine = 'pyarrow')"
   ]
  },
  {
   "cell_type": "code",
   "execution_count": 153,
   "metadata": {},
   "outputs": [],
   "source": [
    "filt_GEN = (df_test_pay['customer_client_code'].str.contains('GEN'))"
   ]
  },
  {
   "cell_type": "code",
   "execution_count": 154,
   "metadata": {},
   "outputs": [],
   "source": [
    "df_test_pay = df_test_pay[filt_GEN]"
   ]
  },
  {
   "cell_type": "code",
   "execution_count": 155,
   "metadata": {},
   "outputs": [
    {
     "data": {
      "text/plain": [
       "GENAUG2021    4998\n",
       "GENSEP2021    4603\n",
       "GENDEC2021    3792\n",
       "GENJUL2021    3051\n",
       "GENOCT2021    3010\n",
       "GENJUN2021    2879\n",
       "GENNOV2021    1363\n",
       "GENJAN2022    1240\n",
       "Name: customer_client_code, dtype: int64"
      ]
     },
     "execution_count": 155,
     "metadata": {},
     "output_type": "execute_result"
    }
   ],
   "source": [
    "df_test_pay['customer_client_code'].value_counts()"
   ]
  },
  {
   "cell_type": "code",
   "execution_count": 157,
   "metadata": {},
   "outputs": [
    {
     "data": {
      "text/plain": [
       "AFJAN2020     29628\n",
       "MARNOV2020    18105\n",
       "AFSEPT2020    16026\n",
       "AFJUN2020     15799\n",
       "AFFEB2021     10699\n",
       "AFOCT2020     10087\n",
       "AFAPR2020     10015\n",
       "CNAC            823\n",
       "UPJAN2021       586\n",
       "UPDEC2020       499\n",
       "UPFEB2021       489\n",
       "UPNOV2020       403\n",
       "UPOCT2020       347\n",
       "AAAAA            56\n",
       "SAMPLE1           4\n",
       "Name: customer_client_code, dtype: int64"
      ]
     },
     "execution_count": 157,
     "metadata": {},
     "output_type": "execute_result"
    }
   ],
   "source": [
    "df_test_acct['customer_client_code'].value_counts()"
   ]
  },
  {
   "cell_type": "code",
   "execution_count": 148,
   "metadata": {},
   "outputs": [],
   "source": [
    "filt = (df_test_acct['customer_client_code'].str.contains('GEN'))"
   ]
  },
  {
   "cell_type": "code",
   "execution_count": null,
   "metadata": {},
   "outputs": [],
   "source": []
  },
  {
   "cell_type": "code",
   "execution_count": null,
   "metadata": {},
   "outputs": [],
   "source": []
  },
  {
   "cell_type": "code",
   "execution_count": 150,
   "metadata": {},
   "outputs": [
    {
     "data": {
      "text/plain": [
       "Series([], Name: customer_client_code, dtype: int64)"
      ]
     },
     "execution_count": 150,
     "metadata": {},
     "output_type": "execute_result"
    }
   ],
   "source": [
    "df_test_acct['customer_client_code'].value_counts()"
   ]
  },
  {
   "cell_type": "code",
   "execution_count": 83,
   "metadata": {},
   "outputs": [
    {
     "data": {
      "text/plain": [
       "10769.324070857936"
      ]
     },
     "execution_count": 83,
     "metadata": {},
     "output_type": "execute_result"
    }
   ],
   "source": []
  },
  {
   "cell_type": "code",
   "execution_count": 109,
   "metadata": {},
   "outputs": [],
   "source": []
  },
  {
   "cell_type": "code",
   "execution_count": 110,
   "metadata": {},
   "outputs": [],
   "source": []
  },
  {
   "cell_type": "code",
   "execution_count": 111,
   "metadata": {},
   "outputs": [],
   "source": []
  },
  {
   "cell_type": "code",
   "execution_count": 112,
   "metadata": {},
   "outputs": [],
   "source": []
  },
  {
   "cell_type": "code",
   "execution_count": 117,
   "metadata": {},
   "outputs": [],
   "source": []
  },
  {
   "cell_type": "code",
   "execution_count": 120,
   "metadata": {},
   "outputs": [
    {
     "data": {
      "text/plain": [
       "13508.697144690408"
      ]
     },
     "execution_count": 120,
     "metadata": {},
     "output_type": "execute_result"
    }
   ],
   "source": []
  },
  {
   "cell_type": "code",
   "execution_count": null,
   "metadata": {},
   "outputs": [],
   "source": []
  }
 ],
 "metadata": {
  "kernelspec": {
   "display_name": "Python 3",
   "language": "python",
   "name": "python3"
  },
  "language_info": {
   "codemirror_mode": {
    "name": "ipython",
    "version": 3
   },
   "file_extension": ".py",
   "mimetype": "text/x-python",
   "name": "python",
   "nbconvert_exporter": "python",
   "pygments_lexer": "ipython3",
   "version": "3.8.3"
  }
 },
 "nbformat": 4,
 "nbformat_minor": 4
}
